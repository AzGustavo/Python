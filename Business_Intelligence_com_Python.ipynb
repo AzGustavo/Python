{
  "nbformat": 4,
  "nbformat_minor": 0,
  "metadata": {
    "colab": {
      "provenance": [],
      "collapsed_sections": [],
      "include_colab_link": true
    },
    "kernelspec": {
      "name": "python3",
      "display_name": "Python 3"
    },
    "language_info": {
      "name": "python"
    }
  },
  "cells": [
    {
      "cell_type": "markdown",
      "metadata": {
        "id": "view-in-github",
        "colab_type": "text"
      },
      "source": [
        "<a href=\"https://colab.research.google.com/github/AzGustavo/Python/blob/main/Business_Intelligence_com_Python.ipynb\" target=\"_parent\"><img src=\"https://colab.research.google.com/assets/colab-badge.svg\" alt=\"Open In Colab\"/></a>"
      ]
    },
    {
      "cell_type": "markdown",
      "source": [
        "---\n",
        "<img alt=\"Colaboratory logo\" width=\"15%\" src=\"https://raw.githubusercontent.com/carlosfab/escola-data-science/master/img/novo_logo_bg_claro.png\">\n",
        "\n",
        "#### **Novo Python do Zero**\n",
        "Módulo 4 - Business Intelligence com Python\n",
        "\n",
        "---"
      ],
      "metadata": {
        "id": "g0uozKEHrLD0"
      }
    },
    {
      "cell_type": "markdown",
      "source": [
        "# Introdução\n",
        "\n",
        "Recém contratado em uma empresa de pequeno porte de Araraquara, com 15 funcionários, você assumiu uma vaga para ajudar a empresa a se modernizar, automatizar processos humanos e gerar inteligência de negócio.\n",
        "\n",
        "Você está motivado na nova missão, e tem compartilhados *cases* publicados em *blogs* para seus colegas de trabalho, mostrando como usam o Python por aí e como \"dados são o novo petróleo\".\n",
        "\n",
        "<img src=\"https://raw.githubusercontent.com/carlosfab/novo-python-do-zero/main/img/9bdccce68226641d9bda0f9c6aabe96e.jpg\">\n",
        "\n",
        "Nesse seu primeiro dia de trabalho, que coincidiu com a véspera de um feriado prolongado, você recebeu poucas tarefas. Com todos já naquele clima de calmaria que antecede todos os feriados nacionais, você olha a lista e fica aliviado em ver que são coisas relativamente tranquilas.\n",
        "\n",
        "Mais do que apenas motivado, você está confiante nas suas habilidades. Afinal, não foram poucos os projetos que você fez nessa trilha de aprendizado; bastou uma passada rápida com os olhos para você concluir que o `pandas`, `numpy` e mais alguma biblioteca como `geopandas`, deveriam ser suficientes para resolver esses pepinos rapidamente.\n",
        "\n",
        "Caneca de café reabastecida, você volta para a sala e faz uma pergunta que seria \"básica\" para você - mas que no mundo real, foi capaz de abalar toda aquela confiança com os projetos do seu portfólio:\n",
        "\n",
        "**Onde estão os dados? Em que pasta eu acho as planilhas?**\n",
        "\n",
        "\n"
      ],
      "metadata": {
        "id": "AHjetJ35444L"
      }
    },
    {
      "cell_type": "markdown",
      "source": [
        "## Projeto *Business Intelligence com GCP e Python*\n",
        "\n",
        "A partir de agora nós iremos contextualizar o projeto do módulo. Apesar de ser uma situação fictícia, é próxima à realidade que os novos profissionais enfrentam ao lideram com problemas fora da CNTP (condições normais de temperatura e pressão).\n",
        "\n",
        "Uma vez que você foi apresentado ao contexto do problema, recebeu os arquivos e entendeu a sua missão geral, irei apresentar as missões específicas do seu *emprego*.\n",
        "\n",
        "Ao final deste, você será apresentado a algumas tarefas, onde terá que resolver sozinho e sem nenhum gabarito. Quero reforçar a importância dessas tarefas ao final, pois são elas que irão desenvolver a sua capacidade de pesquisa e auto-didatismo.\n",
        "\n",
        "\n",
        "<center><img src=\"https://raw.githubusercontent.com/carlosfab/novo-python-do-zero/main/img/28955874330_6cf42a2c54_b.jpg\" width= 200></center>\n",
        "\n",
        "\n",
        "<br><br>"
      ],
      "metadata": {
        "id": "EJyK_Rz2POta"
      }
    },
    {
      "cell_type": "markdown",
      "source": [
        "### ***📋 CHECKLIST* DO PROJETO**\n",
        "✅ Transformar o pdf da planilha escaneada (`enderecos.pdf`) contendo os endereços dos clientes, em um DataFrame.\n",
        "<br>✅ Obter as coordenadas (Latitude/Longitude) a partir dos endereços dos clientes.\n",
        "<br>✅ Unificar os endereços com os dados pessoais dos clientes (`clientes_dados.csv`), a partir da coluna `id_cliente`.\n",
        "<br>✅ Verificar a distância dos clientes até o local do evento, chamado \"Estádio da Fonte Luminosa\" de Araraquara.\n",
        "\n",
        "<br>\n",
        "\n",
        "Assim como foi explicado no *briefing* do módulo, nós iremos lidar com os arquivos **dentro do seu Google Drive pessoal**, em uma pasta qualquer que você tenha escolhido.\n",
        "\n",
        "Também usaremos a autenticação do Document AI por meio das chaves que foram geradas quando configuramos o projeto e autorizamos as APIs.\n",
        "\n",
        "Então, certifique-se de ter feito o upload dos seguintes arquivos no Google Drive:\n",
        " * `clientes_dados.csv`\n",
        " * `enderecos.pdf`\n",
        " * `sua-chave-gerada.json` (verifique o nome do seu arquivo gerado)\n",
        "\n",
        "\n",
        "> Após executar as primeiras célular abaixo, será necessário autorizar o Colab a acessar o volume do Google Drive. Depois, é só navegar até a pasta do projeto, contendo os arquivos supracitados."
      ],
      "metadata": {
        "id": "PJgXroE9JNCR"
      }
    },
    {
      "cell_type": "markdown",
      "source": [
        "### Instalação das bibliotecas e autenticação\n",
        "\n",
        "Com base no conhecimento adquirido até então, e considerando que você configurou corretamente o ambiente do *Console* e ativou as APIs necessárias, vamos começar instalando as bibliotecas que serão utilizadas e analisar os arquivos que teremos que lidar.\n",
        "\n",
        "Lembre que, assim como comentamos na aula de Document AI, após instalar a biblioteca `google-cloud-documentai` você precisará reiniciar o *kernel* do Colab."
      ],
      "metadata": {
        "id": "yGKkPIdSJEcR"
      }
    },
    {
      "cell_type": "code",
      "source": [
        "# instalar produtos do Google Cloud\n",
        "!pip install --upgrade google-cloud-documentai -q\n",
        "!pip install googlemaps -q"
      ],
      "metadata": {
        "id": "ZkiOS80Osc3u",
        "colab": {
          "base_uri": "https://localhost:8080/",
          "height": 1000
        },
        "outputId": "70deb704-df5e-498d-e074-5f8feb0e307c"
      },
      "execution_count": null,
      "outputs": [
        {
          "output_type": "stream",
          "name": "stdout",
          "text": [
            "Looking in indexes: https://pypi.org/simple, https://us-python.pkg.dev/colab-wheels/public/simple/\n",
            "Collecting google-cloud-documentai\n",
            "  Downloading google_cloud_documentai-2.0.2-py2.py3-none-any.whl (184 kB)\n",
            "\u001b[K     |████████████████████████████████| 184 kB 2.1 MB/s \n",
            "\u001b[?25hCollecting protobuf<5.0.0dev,>=3.20.2\n",
            "  Downloading protobuf-4.21.7-cp37-abi3-manylinux2014_x86_64.whl (408 kB)\n",
            "\u001b[K     |████████████████████████████████| 408 kB 29.5 MB/s \n",
            "\u001b[?25hCollecting proto-plus<2.0.0dev,>=1.22.0\n",
            "  Downloading proto_plus-1.22.1-py3-none-any.whl (47 kB)\n",
            "\u001b[K     |████████████████████████████████| 47 kB 5.2 MB/s \n",
            "\u001b[?25hCollecting google-api-core[grpc]!=2.0.*,!=2.1.*,!=2.2.*,!=2.3.*,!=2.4.*,!=2.5.*,!=2.6.*,!=2.7.*,<3.0.0dev,>=1.32.0\n",
            "  Downloading google_api_core-2.10.1-py3-none-any.whl (115 kB)\n",
            "\u001b[K     |████████████████████████████████| 115 kB 74.1 MB/s \n",
            "\u001b[?25hRequirement already satisfied: requests<3.0.0dev,>=2.18.0 in /usr/local/lib/python3.7/dist-packages (from google-api-core[grpc]!=2.0.*,!=2.1.*,!=2.2.*,!=2.3.*,!=2.4.*,!=2.5.*,!=2.6.*,!=2.7.*,<3.0.0dev,>=1.32.0->google-cloud-documentai) (2.23.0)\n",
            "Requirement already satisfied: google-auth<3.0dev,>=1.25.0 in /usr/local/lib/python3.7/dist-packages (from google-api-core[grpc]!=2.0.*,!=2.1.*,!=2.2.*,!=2.3.*,!=2.4.*,!=2.5.*,!=2.6.*,!=2.7.*,<3.0.0dev,>=1.32.0->google-cloud-documentai) (1.35.0)\n",
            "Requirement already satisfied: googleapis-common-protos<2.0dev,>=1.56.2 in /usr/local/lib/python3.7/dist-packages (from google-api-core[grpc]!=2.0.*,!=2.1.*,!=2.2.*,!=2.3.*,!=2.4.*,!=2.5.*,!=2.6.*,!=2.7.*,<3.0.0dev,>=1.32.0->google-cloud-documentai) (1.56.4)\n",
            "Collecting grpcio-status<2.0dev,>=1.33.2\n",
            "  Downloading grpcio_status-1.49.1-py3-none-any.whl (14 kB)\n",
            "Requirement already satisfied: grpcio<2.0dev,>=1.33.2 in /usr/local/lib/python3.7/dist-packages (from google-api-core[grpc]!=2.0.*,!=2.1.*,!=2.2.*,!=2.3.*,!=2.4.*,!=2.5.*,!=2.6.*,!=2.7.*,<3.0.0dev,>=1.32.0->google-cloud-documentai) (1.48.1)\n",
            "Requirement already satisfied: setuptools>=40.3.0 in /usr/local/lib/python3.7/dist-packages (from google-auth<3.0dev,>=1.25.0->google-api-core[grpc]!=2.0.*,!=2.1.*,!=2.2.*,!=2.3.*,!=2.4.*,!=2.5.*,!=2.6.*,!=2.7.*,<3.0.0dev,>=1.32.0->google-cloud-documentai) (57.4.0)\n",
            "Requirement already satisfied: cachetools<5.0,>=2.0.0 in /usr/local/lib/python3.7/dist-packages (from google-auth<3.0dev,>=1.25.0->google-api-core[grpc]!=2.0.*,!=2.1.*,!=2.2.*,!=2.3.*,!=2.4.*,!=2.5.*,!=2.6.*,!=2.7.*,<3.0.0dev,>=1.32.0->google-cloud-documentai) (4.2.4)\n",
            "Requirement already satisfied: rsa<5,>=3.1.4 in /usr/local/lib/python3.7/dist-packages (from google-auth<3.0dev,>=1.25.0->google-api-core[grpc]!=2.0.*,!=2.1.*,!=2.2.*,!=2.3.*,!=2.4.*,!=2.5.*,!=2.6.*,!=2.7.*,<3.0.0dev,>=1.32.0->google-cloud-documentai) (4.9)\n",
            "Requirement already satisfied: six>=1.9.0 in /usr/local/lib/python3.7/dist-packages (from google-auth<3.0dev,>=1.25.0->google-api-core[grpc]!=2.0.*,!=2.1.*,!=2.2.*,!=2.3.*,!=2.4.*,!=2.5.*,!=2.6.*,!=2.7.*,<3.0.0dev,>=1.32.0->google-cloud-documentai) (1.15.0)\n",
            "Requirement already satisfied: pyasn1-modules>=0.2.1 in /usr/local/lib/python3.7/dist-packages (from google-auth<3.0dev,>=1.25.0->google-api-core[grpc]!=2.0.*,!=2.1.*,!=2.2.*,!=2.3.*,!=2.4.*,!=2.5.*,!=2.6.*,!=2.7.*,<3.0.0dev,>=1.32.0->google-cloud-documentai) (0.2.8)\n",
            "Collecting grpcio<2.0dev,>=1.33.2\n",
            "  Downloading grpcio-1.49.1-cp37-cp37m-manylinux_2_17_x86_64.manylinux2014_x86_64.whl (4.7 MB)\n",
            "\u001b[K     |████████████████████████████████| 4.7 MB 51.7 MB/s \n",
            "\u001b[?25hRequirement already satisfied: pyasn1<0.5.0,>=0.4.6 in /usr/local/lib/python3.7/dist-packages (from pyasn1-modules>=0.2.1->google-auth<3.0dev,>=1.25.0->google-api-core[grpc]!=2.0.*,!=2.1.*,!=2.2.*,!=2.3.*,!=2.4.*,!=2.5.*,!=2.6.*,!=2.7.*,<3.0.0dev,>=1.32.0->google-cloud-documentai) (0.4.8)\n",
            "Requirement already satisfied: chardet<4,>=3.0.2 in /usr/local/lib/python3.7/dist-packages (from requests<3.0.0dev,>=2.18.0->google-api-core[grpc]!=2.0.*,!=2.1.*,!=2.2.*,!=2.3.*,!=2.4.*,!=2.5.*,!=2.6.*,!=2.7.*,<3.0.0dev,>=1.32.0->google-cloud-documentai) (3.0.4)\n",
            "Requirement already satisfied: urllib3!=1.25.0,!=1.25.1,<1.26,>=1.21.1 in /usr/local/lib/python3.7/dist-packages (from requests<3.0.0dev,>=2.18.0->google-api-core[grpc]!=2.0.*,!=2.1.*,!=2.2.*,!=2.3.*,!=2.4.*,!=2.5.*,!=2.6.*,!=2.7.*,<3.0.0dev,>=1.32.0->google-cloud-documentai) (1.24.3)\n",
            "Requirement already satisfied: idna<3,>=2.5 in /usr/local/lib/python3.7/dist-packages (from requests<3.0.0dev,>=2.18.0->google-api-core[grpc]!=2.0.*,!=2.1.*,!=2.2.*,!=2.3.*,!=2.4.*,!=2.5.*,!=2.6.*,!=2.7.*,<3.0.0dev,>=1.32.0->google-cloud-documentai) (2.10)\n",
            "Requirement already satisfied: certifi>=2017.4.17 in /usr/local/lib/python3.7/dist-packages (from requests<3.0.0dev,>=2.18.0->google-api-core[grpc]!=2.0.*,!=2.1.*,!=2.2.*,!=2.3.*,!=2.4.*,!=2.5.*,!=2.6.*,!=2.7.*,<3.0.0dev,>=1.32.0->google-cloud-documentai) (2022.6.15)\n",
            "Installing collected packages: protobuf, grpcio, grpcio-status, google-api-core, proto-plus, google-cloud-documentai\n",
            "  Attempting uninstall: protobuf\n",
            "    Found existing installation: protobuf 3.17.3\n",
            "    Uninstalling protobuf-3.17.3:\n",
            "      Successfully uninstalled protobuf-3.17.3\n",
            "  Attempting uninstall: grpcio\n",
            "    Found existing installation: grpcio 1.48.1\n",
            "    Uninstalling grpcio-1.48.1:\n",
            "      Successfully uninstalled grpcio-1.48.1\n",
            "  Attempting uninstall: google-api-core\n",
            "    Found existing installation: google-api-core 1.31.6\n",
            "    Uninstalling google-api-core-1.31.6:\n",
            "      Successfully uninstalled google-api-core-1.31.6\n",
            "\u001b[31mERROR: pip's dependency resolver does not currently take into account all the packages that are installed. This behaviour is the source of the following dependency conflicts.\n",
            "tensorflow 2.8.2+zzzcolab20220719082949 requires protobuf<3.20,>=3.9.2, but you have protobuf 4.21.7 which is incompatible.\n",
            "tensorflow-metadata 1.10.0 requires protobuf<4,>=3.13, but you have protobuf 4.21.7 which is incompatible.\n",
            "google-cloud-translate 1.5.0 requires google-api-core[grpc]<2.0.0dev,>=1.6.0, but you have google-api-core 2.10.1 which is incompatible.\n",
            "google-cloud-language 1.2.0 requires google-api-core[grpc]<2.0.0dev,>=1.6.0, but you have google-api-core 2.10.1 which is incompatible.\n",
            "google-cloud-firestore 1.7.0 requires google-api-core[grpc]<2.0.0dev,>=1.14.0, but you have google-api-core 2.10.1 which is incompatible.\n",
            "google-cloud-datastore 1.8.0 requires google-api-core[grpc]<2.0.0dev,>=1.6.0, but you have google-api-core 2.10.1 which is incompatible.\n",
            "google-cloud-core 1.0.3 requires google-api-core<2.0.0dev,>=1.14.0, but you have google-api-core 2.10.1 which is incompatible.\n",
            "google-cloud-bigquery-storage 1.1.2 requires protobuf<4.0.0dev, but you have protobuf 4.21.7 which is incompatible.\n",
            "firebase-admin 4.4.0 requires google-api-core[grpc]<2.0.0dev,>=1.14.0; platform_python_implementation != \"PyPy\", but you have google-api-core 2.10.1 which is incompatible.\u001b[0m\n",
            "Successfully installed google-api-core-2.10.1 google-cloud-documentai-2.0.2 grpcio-1.49.1 grpcio-status-1.49.1 proto-plus-1.22.1 protobuf-4.21.7\n"
          ]
        },
        {
          "output_type": "display_data",
          "data": {
            "application/vnd.colab-display-data+json": {
              "pip_warning": {
                "packages": [
                  "google"
                ]
              }
            }
          },
          "metadata": {}
        },
        {
          "output_type": "stream",
          "name": "stdout",
          "text": [
            "Looking in indexes: https://pypi.org/simple, https://us-python.pkg.dev/colab-wheels/public/simple/\n",
            "Collecting googlemaps\n",
            "  Downloading googlemaps-4.6.0.tar.gz (31 kB)\n",
            "Requirement already satisfied: requests<3.0,>=2.20.0 in /usr/local/lib/python3.7/dist-packages (from googlemaps) (2.23.0)\n",
            "Requirement already satisfied: idna<3,>=2.5 in /usr/local/lib/python3.7/dist-packages (from requests<3.0,>=2.20.0->googlemaps) (2.10)\n",
            "Requirement already satisfied: certifi>=2017.4.17 in /usr/local/lib/python3.7/dist-packages (from requests<3.0,>=2.20.0->googlemaps) (2022.6.15)\n",
            "Requirement already satisfied: urllib3!=1.25.0,!=1.25.1,<1.26,>=1.21.1 in /usr/local/lib/python3.7/dist-packages (from requests<3.0,>=2.20.0->googlemaps) (1.24.3)\n",
            "Requirement already satisfied: chardet<4,>=3.0.2 in /usr/local/lib/python3.7/dist-packages (from requests<3.0,>=2.20.0->googlemaps) (3.0.4)\n",
            "Building wheels for collected packages: googlemaps\n",
            "  Building wheel for googlemaps (setup.py) ... \u001b[?25l\u001b[?25hdone\n",
            "  Created wheel for googlemaps: filename=googlemaps-4.6.0-py3-none-any.whl size=38554 sha256=7ed4b1fe91a7a8613b3aa335d659e9d530fdb4666a5521dc810d4925c27a10f6\n",
            "  Stored in directory: /root/.cache/pip/wheels/80/db/c0/6d958585fa97b20e250bf437acf7e6e715b4809c2dd4e55367\n",
            "Successfully built googlemaps\n",
            "Installing collected packages: googlemaps\n",
            "Successfully installed googlemaps-4.6.0\n"
          ]
        }
      ]
    },
    {
      "cell_type": "code",
      "source": [
        "# Importar as bibliotecas necessárias\n",
        "from google.oauth2 import service_account\n",
        "from google.colab import drive\n",
        "from typing import List, Sequence\n",
        "import pandas as pd\n",
        "from google.api_core.client_options import ClientOptions\n",
        "from google.cloud import documentai_v1 as documentai\n",
        "import json\n",
        "import googlemaps\n",
        "from datetime import datetime\n",
        "import matplotlib.pyplot as plt"
      ],
      "metadata": {
        "id": "pgTQTnjYuS_r"
      },
      "execution_count": null,
      "outputs": []
    },
    {
      "cell_type": "markdown",
      "source": [
        "O que a linha `%env GOOGLE_APPLICATION_CREDENTIALS=$key_path` fará é criar uma variável no ambiente do servidor, com referência ao arquivo *json* que contém os dados para o Colab autenticar junto aos produtos do seu projeto no Google Cloud.\n",
        "\n",
        "Obviamente estamos em um ambiente didático, mas fica o aviso: nunca compartilhe esse arquivo. Da mesma maneira, quando estiver lidando com *tokens* diretamente no *notebook*, tome cuidado para não publicar ou subir o arquivo em um repositório público.\n",
        "\n",
        "Qualquer pessoa que detenha essa informação, irá ter acesso aos produtos ativados - ou seja, a fatura poderá vir alta!"
      ],
      "metadata": {
        "id": "dB_74hoPQUAL"
      }
    },
    {
      "cell_type": "code",
      "source": [
        "# Mount Google Drive\n",
        "drive.mount('/content/drive/')\n",
        "\n",
        "# Caminho até a sua pasta de projetos\n",
        "PROJECT_PATH = \"/content/drive/MyDrive/PDZ/Mod4\"\n",
        "\n",
        "# Indicar o caminho até o arquivo JSON para autenticação\n",
        "key_path = 'Insira caminho do JSON' \n",
        "\n",
        "# Inserir uma variável no ambiente\n",
        "%env GOOGLE_APPLICATION_CREDENTIALS=$key_path"
      ],
      "metadata": {
        "colab": {
          "base_uri": "https://localhost:8080/"
        },
        "id": "N5zvN21mQV8J",
        "outputId": "33c54f53-c7bb-48a6-dfe6-7e9eeae01a35"
      },
      "execution_count": null,
      "outputs": [
        {
          "output_type": "stream",
          "name": "stdout",
          "text": [
            "Mounted at /content/drive/\n",
            "env: GOOGLE_APPLICATION_CREDENTIALS=/content/drive/MyDrive/PDZ/Mod4/projeto-tutorial-362413-6fa05c9fc52c.json\n"
          ]
        }
      ]
    },
    {
      "cell_type": "markdown",
      "source": [
        "## *Data Ingestion* e *Analytics*\n",
        "\n",
        "Para atender todas as atribuições do *checklist*, nós iremos cumprir uma sequência de passos intermediários:\n",
        "\n",
        "1. Converter o arquivo pdf contendo os endereços dos clientes (tabela do Excel impressa e escaneada) para uma estrutura de DataFrame, utilizando o Document AI (Form Parser).\n",
        "2. Ler o arquivo csv contendo os dados pessoais dos clientes para uma estrutura de DataFrame, utilizando o Pandas.\n",
        "3. Verificar a integridade dos dados e se os tipos são adequados a cada coluna.\n",
        "4. Combinar os dois DataFrames em uma única variável, usando a coluna `id_cliente` como referência.\n",
        "5. Obter as coordenadas geográficas de cada entrada do *dataset* unificado, por meio do Google Maps.\n",
        "6. Gerar um novo arquivo `dados_completos.csv` e deixá-lo salvo no diretório do projeto, no Google Drive.\n",
        "7. Obter a distância e tempo de deslocamento de cada cliente até o ponto marcante \"Estádio da Fonte Luminosa, Araraquara - SP\".\n",
        "8. Você irá prosseguir adiante, aprofundando nas análises e gerando mais *insights* para a empresa.\n"
      ],
      "metadata": {
        "id": "lxCpBAJASPa7"
      }
    },
    {
      "cell_type": "markdown",
      "source": [
        "### 1. Converter *pdf* em *DataFrame*"
      ],
      "metadata": {
        "id": "wq0X0lBTJaLE"
      }
    },
    {
      "cell_type": "code",
      "source": [
        "\"\"\"\n",
        "Fazer uma requisição para processamento ao Document AI\n",
        "\"\"\"\n",
        "\n",
        "# Troque pelos seus dados\n",
        "project_id = ''  # id do projeto onde você ativou as APIs. Não é o id do processador, mas DO PROJETO\n",
        "location = 'us' # 'us' ou 'eu', dependendo da sua escolha\n",
        "processor_id = '' #  Não confunda com o processador OCR... use o processador Form Parser\n",
        "file_path = '/content/drive/MyDrive/PDZ/Mod4/enderecos.pdf'\n",
        "mime_type = 'application/pdf' \n",
        "\n",
        "\n",
        "def online_process(\n",
        "    project_id: str,\n",
        "    location: str,\n",
        "    processor_id: str,\n",
        "    file_path: str,\n",
        "    mime_type: str,\n",
        ") -> documentai.Document:\n",
        "    \"\"\"\n",
        "    Processes a document using the Document AI Online Processing API.\n",
        "    \"\"\"\n",
        "\n",
        "    # Instantiates a client\n",
        "    docai_client = documentai.DocumentProcessorServiceClient(\n",
        "        client_options=ClientOptions(\n",
        "            api_endpoint=f\"{location}-documentai.googleapis.com\"\n",
        "        )\n",
        "    )\n",
        "\n",
        "    # The full resource name of the processor, e.g.:\n",
        "    # projects/project-id/locations/location/processor/processor-id\n",
        "    # You must create new processors in the Cloud Console first\n",
        "    resource_name = docai_client.processor_path(project_id, location, processor_id)\n",
        "\n",
        "    # Read the file into memory\n",
        "    with open(file_path, \"rb\") as file:\n",
        "        file_content = file.read()\n",
        "\n",
        "    # Load Binary Data into Document AI RawDocument Object\n",
        "    raw_document = documentai.RawDocument(content=file_content, mime_type=mime_type)\n",
        "\n",
        "    # Configure the process request\n",
        "    request = documentai.ProcessRequest(name=resource_name, raw_document=raw_document)\n",
        "\n",
        "    # Use the Document AI client to process the sample form\n",
        "    result = docai_client.process_document(request=request)\n",
        "\n",
        "    return result.document\n",
        "\n",
        "\n",
        "def get_table_data(\n",
        "    rows: Sequence[documentai.Document.Page.Table.TableRow], text: str\n",
        ") -> List[List[str]]:\n",
        "    \"\"\"\n",
        "    Get Text data from table rows\n",
        "    \"\"\"\n",
        "    all_values: List[List[str]] = []\n",
        "    for row in rows:\n",
        "        current_row_values: List[str] = []\n",
        "        for cell in row.cells:\n",
        "            current_row_values.append(\n",
        "                text_anchor_to_text(cell.layout.text_anchor, text)\n",
        "            )\n",
        "        all_values.append(current_row_values)\n",
        "    return all_values\n",
        "\n",
        "\n",
        "def text_anchor_to_text(text_anchor: documentai.Document.TextAnchor, text: str) -> str:\n",
        "    \"\"\"\n",
        "    Document AI identifies table data by their offsets in the entirity of the\n",
        "    document's text. This function converts offsets to a string.\n",
        "    \"\"\"\n",
        "    response = \"\"\n",
        "    # If a text segment spans several lines, it will\n",
        "    # be stored in different text segments.\n",
        "    for segment in text_anchor.text_segments:\n",
        "        start_index = int(segment.start_index)\n",
        "        end_index = int(segment.end_index)\n",
        "        response += text[start_index:end_index]\n",
        "    return response.strip().replace(\"\\n\", \" \")\n",
        "\n",
        "\n",
        "# Fazer a requisição e enviar o pdf ao processador Form Parser\n",
        "document = online_process(\n",
        "    project_id,\n",
        "    location,\n",
        "    processor_id,\n",
        "    file_path,\n",
        "    mime_type\n",
        ")\n",
        "\n",
        "# Extrair cabeçalho e linhas da tabela\n",
        "header_row_values: List[List[str]] = []\n",
        "body_row_values: List[List[str]] = []\n",
        "\n",
        "# caso houvesse mais páginas no documento pdf\n",
        "for page in document.pages:\n",
        "    for table in page.tables:\n",
        "        header_row_values = get_table_data(table.header_rows, document.text)\n",
        "        body_row_values = get_table_data(table.body_rows, document.text)\n",
        "\n",
        "# criar um Pandas Dataframe para armazenar os valores em formato tabular\n",
        "df_enderecos = pd.DataFrame(\n",
        "    data=body_row_values,\n",
        "    columns=header_row_values[0],\n",
        ")"
      ],
      "metadata": {
        "id": "EzPhOdd4x9Ud"
      },
      "execution_count": null,
      "outputs": []
    },
    {
      "cell_type": "code",
      "source": [
        "df_enderecos.head()"
      ],
      "metadata": {
        "colab": {
          "base_uri": "https://localhost:8080/",
          "height": 206
        },
        "id": "hdfAHw0WyfAn",
        "outputId": "3927c95c-a161-4f60-94ca-53a6d54f53b4"
      },
      "execution_count": null,
      "outputs": [
        {
          "output_type": "execute_result",
          "data": {
            "text/plain": [
              "  id_cliente                   logradouro numero                      bairro  \\\n",
              "0          1   Rua Bento de Miranda Mello    356  Residencial Olivio Benassi   \n",
              "1          2   Rua Ricardo Arruda Ribeiro    745                 Água Branca   \n",
              "2          3  Rua Dona Sylvia Finco Costa    870              Jardim Tapajós   \n",
              "3          4                  Rua Axicará    433         Vila Isolina Mazzei   \n",
              "4          5       Rua Diamantino Armando    245              Vila Esperança   \n",
              "\n",
              "         cep      cidade  uf  \n",
              "0  15993-037       Matão  SP  \n",
              "1  13425-100  Piracicaba  SP  \n",
              "2  12945-080     Atibaia  SP  \n",
              "3  02081-080   São Paulo  SP  \n",
              "4  18703-800       Avaré  SP  "
            ],
            "text/html": [
              "\n",
              "  <div id=\"df-c6c7892d-8f39-416f-a91b-c6c3d7ac6925\">\n",
              "    <div class=\"colab-df-container\">\n",
              "      <div>\n",
              "<style scoped>\n",
              "    .dataframe tbody tr th:only-of-type {\n",
              "        vertical-align: middle;\n",
              "    }\n",
              "\n",
              "    .dataframe tbody tr th {\n",
              "        vertical-align: top;\n",
              "    }\n",
              "\n",
              "    .dataframe thead th {\n",
              "        text-align: right;\n",
              "    }\n",
              "</style>\n",
              "<table border=\"1\" class=\"dataframe\">\n",
              "  <thead>\n",
              "    <tr style=\"text-align: right;\">\n",
              "      <th></th>\n",
              "      <th>id_cliente</th>\n",
              "      <th>logradouro</th>\n",
              "      <th>numero</th>\n",
              "      <th>bairro</th>\n",
              "      <th>cep</th>\n",
              "      <th>cidade</th>\n",
              "      <th>uf</th>\n",
              "    </tr>\n",
              "  </thead>\n",
              "  <tbody>\n",
              "    <tr>\n",
              "      <th>0</th>\n",
              "      <td>1</td>\n",
              "      <td>Rua Bento de Miranda Mello</td>\n",
              "      <td>356</td>\n",
              "      <td>Residencial Olivio Benassi</td>\n",
              "      <td>15993-037</td>\n",
              "      <td>Matão</td>\n",
              "      <td>SP</td>\n",
              "    </tr>\n",
              "    <tr>\n",
              "      <th>1</th>\n",
              "      <td>2</td>\n",
              "      <td>Rua Ricardo Arruda Ribeiro</td>\n",
              "      <td>745</td>\n",
              "      <td>Água Branca</td>\n",
              "      <td>13425-100</td>\n",
              "      <td>Piracicaba</td>\n",
              "      <td>SP</td>\n",
              "    </tr>\n",
              "    <tr>\n",
              "      <th>2</th>\n",
              "      <td>3</td>\n",
              "      <td>Rua Dona Sylvia Finco Costa</td>\n",
              "      <td>870</td>\n",
              "      <td>Jardim Tapajós</td>\n",
              "      <td>12945-080</td>\n",
              "      <td>Atibaia</td>\n",
              "      <td>SP</td>\n",
              "    </tr>\n",
              "    <tr>\n",
              "      <th>3</th>\n",
              "      <td>4</td>\n",
              "      <td>Rua Axicará</td>\n",
              "      <td>433</td>\n",
              "      <td>Vila Isolina Mazzei</td>\n",
              "      <td>02081-080</td>\n",
              "      <td>São Paulo</td>\n",
              "      <td>SP</td>\n",
              "    </tr>\n",
              "    <tr>\n",
              "      <th>4</th>\n",
              "      <td>5</td>\n",
              "      <td>Rua Diamantino Armando</td>\n",
              "      <td>245</td>\n",
              "      <td>Vila Esperança</td>\n",
              "      <td>18703-800</td>\n",
              "      <td>Avaré</td>\n",
              "      <td>SP</td>\n",
              "    </tr>\n",
              "  </tbody>\n",
              "</table>\n",
              "</div>\n",
              "      <button class=\"colab-df-convert\" onclick=\"convertToInteractive('df-c6c7892d-8f39-416f-a91b-c6c3d7ac6925')\"\n",
              "              title=\"Convert this dataframe to an interactive table.\"\n",
              "              style=\"display:none;\">\n",
              "        \n",
              "  <svg xmlns=\"http://www.w3.org/2000/svg\" height=\"24px\"viewBox=\"0 0 24 24\"\n",
              "       width=\"24px\">\n",
              "    <path d=\"M0 0h24v24H0V0z\" fill=\"none\"/>\n",
              "    <path d=\"M18.56 5.44l.94 2.06.94-2.06 2.06-.94-2.06-.94-.94-2.06-.94 2.06-2.06.94zm-11 1L8.5 8.5l.94-2.06 2.06-.94-2.06-.94L8.5 2.5l-.94 2.06-2.06.94zm10 10l.94 2.06.94-2.06 2.06-.94-2.06-.94-.94-2.06-.94 2.06-2.06.94z\"/><path d=\"M17.41 7.96l-1.37-1.37c-.4-.4-.92-.59-1.43-.59-.52 0-1.04.2-1.43.59L10.3 9.45l-7.72 7.72c-.78.78-.78 2.05 0 2.83L4 21.41c.39.39.9.59 1.41.59.51 0 1.02-.2 1.41-.59l7.78-7.78 2.81-2.81c.8-.78.8-2.07 0-2.86zM5.41 20L4 18.59l7.72-7.72 1.47 1.35L5.41 20z\"/>\n",
              "  </svg>\n",
              "      </button>\n",
              "      \n",
              "  <style>\n",
              "    .colab-df-container {\n",
              "      display:flex;\n",
              "      flex-wrap:wrap;\n",
              "      gap: 12px;\n",
              "    }\n",
              "\n",
              "    .colab-df-convert {\n",
              "      background-color: #E8F0FE;\n",
              "      border: none;\n",
              "      border-radius: 50%;\n",
              "      cursor: pointer;\n",
              "      display: none;\n",
              "      fill: #1967D2;\n",
              "      height: 32px;\n",
              "      padding: 0 0 0 0;\n",
              "      width: 32px;\n",
              "    }\n",
              "\n",
              "    .colab-df-convert:hover {\n",
              "      background-color: #E2EBFA;\n",
              "      box-shadow: 0px 1px 2px rgba(60, 64, 67, 0.3), 0px 1px 3px 1px rgba(60, 64, 67, 0.15);\n",
              "      fill: #174EA6;\n",
              "    }\n",
              "\n",
              "    [theme=dark] .colab-df-convert {\n",
              "      background-color: #3B4455;\n",
              "      fill: #D2E3FC;\n",
              "    }\n",
              "\n",
              "    [theme=dark] .colab-df-convert:hover {\n",
              "      background-color: #434B5C;\n",
              "      box-shadow: 0px 1px 3px 1px rgba(0, 0, 0, 0.15);\n",
              "      filter: drop-shadow(0px 1px 2px rgba(0, 0, 0, 0.3));\n",
              "      fill: #FFFFFF;\n",
              "    }\n",
              "  </style>\n",
              "\n",
              "      <script>\n",
              "        const buttonEl =\n",
              "          document.querySelector('#df-c6c7892d-8f39-416f-a91b-c6c3d7ac6925 button.colab-df-convert');\n",
              "        buttonEl.style.display =\n",
              "          google.colab.kernel.accessAllowed ? 'block' : 'none';\n",
              "\n",
              "        async function convertToInteractive(key) {\n",
              "          const element = document.querySelector('#df-c6c7892d-8f39-416f-a91b-c6c3d7ac6925');\n",
              "          const dataTable =\n",
              "            await google.colab.kernel.invokeFunction('convertToInteractive',\n",
              "                                                     [key], {});\n",
              "          if (!dataTable) return;\n",
              "\n",
              "          const docLinkHtml = 'Like what you see? Visit the ' +\n",
              "            '<a target=\"_blank\" href=https://colab.research.google.com/notebooks/data_table.ipynb>data table notebook</a>'\n",
              "            + ' to learn more about interactive tables.';\n",
              "          element.innerHTML = '';\n",
              "          dataTable['output_type'] = 'display_data';\n",
              "          await google.colab.output.renderOutput(dataTable, element);\n",
              "          const docLink = document.createElement('div');\n",
              "          docLink.innerHTML = docLinkHtml;\n",
              "          element.appendChild(docLink);\n",
              "        }\n",
              "      </script>\n",
              "    </div>\n",
              "  </div>\n",
              "  "
            ]
          },
          "metadata": {},
          "execution_count": 4
        }
      ]
    },
    {
      "cell_type": "markdown",
      "source": [
        "### 2. Carregar *csv* em *DataFrame*"
      ],
      "metadata": {
        "id": "HEVpVVV7HU6Z"
      }
    },
    {
      "cell_type": "code",
      "source": [
        "df_dados = pd.read_csv(\"/content/drive/MyDrive/PDZ/Mod4/clientes_dados.csv\", sep=\";\")"
      ],
      "metadata": {
        "id": "J7xaW4593itZ"
      },
      "execution_count": null,
      "outputs": []
    },
    {
      "cell_type": "code",
      "source": [
        "df_dados.head()"
      ],
      "metadata": {
        "colab": {
          "base_uri": "https://localhost:8080/",
          "height": 206
        },
        "id": "WvcSNiINvIDp",
        "outputId": "a39115f8-35b2-4c5f-b2e9-57fdc83c35f6"
      },
      "execution_count": null,
      "outputs": [
        {
          "output_type": "execute_result",
          "data": {
            "text/plain": [
              "   id_cliente                              nome  \\\n",
              "0           1           Sebastiana Tânia Mendes   \n",
              "1           2              Andrea Débora Campos   \n",
              "2           3          Rosa Jéssica Isis Barros   \n",
              "3           4  Vinicius Carlos Eduardo da Rocha   \n",
              "4           5       Cecília Milena Elisa Vieira   \n",
              "\n",
              "                                   email       sexo             cpf  \\\n",
              "0      sebastiana_tania_mendes@trbvm.com   Feminino  938.319.088-42   \n",
              "1            andrea-campos75@caporal.biz   Feminino  782.328.538-08   \n",
              "2     rosa.jessica.barros@optovac.com.br   Feminino  129.102.618-59   \n",
              "3  viniciuscarlosdarocha@carreira.com.br  Masculino  437.270.578-66   \n",
              "4          cecilia-vieira98@amure.com.br   Feminino  726.017.228-27   \n",
              "\n",
              "    data_nasc  \n",
              "0  06/01/1984  \n",
              "1  06/01/1943  \n",
              "2  04/02/1970  \n",
              "3  22/06/1969  \n",
              "4  07/09/1948  "
            ],
            "text/html": [
              "\n",
              "  <div id=\"df-86cbedd4-a610-4b50-a026-7f80d6da9442\">\n",
              "    <div class=\"colab-df-container\">\n",
              "      <div>\n",
              "<style scoped>\n",
              "    .dataframe tbody tr th:only-of-type {\n",
              "        vertical-align: middle;\n",
              "    }\n",
              "\n",
              "    .dataframe tbody tr th {\n",
              "        vertical-align: top;\n",
              "    }\n",
              "\n",
              "    .dataframe thead th {\n",
              "        text-align: right;\n",
              "    }\n",
              "</style>\n",
              "<table border=\"1\" class=\"dataframe\">\n",
              "  <thead>\n",
              "    <tr style=\"text-align: right;\">\n",
              "      <th></th>\n",
              "      <th>id_cliente</th>\n",
              "      <th>nome</th>\n",
              "      <th>email</th>\n",
              "      <th>sexo</th>\n",
              "      <th>cpf</th>\n",
              "      <th>data_nasc</th>\n",
              "    </tr>\n",
              "  </thead>\n",
              "  <tbody>\n",
              "    <tr>\n",
              "      <th>0</th>\n",
              "      <td>1</td>\n",
              "      <td>Sebastiana Tânia Mendes</td>\n",
              "      <td>sebastiana_tania_mendes@trbvm.com</td>\n",
              "      <td>Feminino</td>\n",
              "      <td>938.319.088-42</td>\n",
              "      <td>06/01/1984</td>\n",
              "    </tr>\n",
              "    <tr>\n",
              "      <th>1</th>\n",
              "      <td>2</td>\n",
              "      <td>Andrea Débora Campos</td>\n",
              "      <td>andrea-campos75@caporal.biz</td>\n",
              "      <td>Feminino</td>\n",
              "      <td>782.328.538-08</td>\n",
              "      <td>06/01/1943</td>\n",
              "    </tr>\n",
              "    <tr>\n",
              "      <th>2</th>\n",
              "      <td>3</td>\n",
              "      <td>Rosa Jéssica Isis Barros</td>\n",
              "      <td>rosa.jessica.barros@optovac.com.br</td>\n",
              "      <td>Feminino</td>\n",
              "      <td>129.102.618-59</td>\n",
              "      <td>04/02/1970</td>\n",
              "    </tr>\n",
              "    <tr>\n",
              "      <th>3</th>\n",
              "      <td>4</td>\n",
              "      <td>Vinicius Carlos Eduardo da Rocha</td>\n",
              "      <td>viniciuscarlosdarocha@carreira.com.br</td>\n",
              "      <td>Masculino</td>\n",
              "      <td>437.270.578-66</td>\n",
              "      <td>22/06/1969</td>\n",
              "    </tr>\n",
              "    <tr>\n",
              "      <th>4</th>\n",
              "      <td>5</td>\n",
              "      <td>Cecília Milena Elisa Vieira</td>\n",
              "      <td>cecilia-vieira98@amure.com.br</td>\n",
              "      <td>Feminino</td>\n",
              "      <td>726.017.228-27</td>\n",
              "      <td>07/09/1948</td>\n",
              "    </tr>\n",
              "  </tbody>\n",
              "</table>\n",
              "</div>\n",
              "      <button class=\"colab-df-convert\" onclick=\"convertToInteractive('df-86cbedd4-a610-4b50-a026-7f80d6da9442')\"\n",
              "              title=\"Convert this dataframe to an interactive table.\"\n",
              "              style=\"display:none;\">\n",
              "        \n",
              "  <svg xmlns=\"http://www.w3.org/2000/svg\" height=\"24px\"viewBox=\"0 0 24 24\"\n",
              "       width=\"24px\">\n",
              "    <path d=\"M0 0h24v24H0V0z\" fill=\"none\"/>\n",
              "    <path d=\"M18.56 5.44l.94 2.06.94-2.06 2.06-.94-2.06-.94-.94-2.06-.94 2.06-2.06.94zm-11 1L8.5 8.5l.94-2.06 2.06-.94-2.06-.94L8.5 2.5l-.94 2.06-2.06.94zm10 10l.94 2.06.94-2.06 2.06-.94-2.06-.94-.94-2.06-.94 2.06-2.06.94z\"/><path d=\"M17.41 7.96l-1.37-1.37c-.4-.4-.92-.59-1.43-.59-.52 0-1.04.2-1.43.59L10.3 9.45l-7.72 7.72c-.78.78-.78 2.05 0 2.83L4 21.41c.39.39.9.59 1.41.59.51 0 1.02-.2 1.41-.59l7.78-7.78 2.81-2.81c.8-.78.8-2.07 0-2.86zM5.41 20L4 18.59l7.72-7.72 1.47 1.35L5.41 20z\"/>\n",
              "  </svg>\n",
              "      </button>\n",
              "      \n",
              "  <style>\n",
              "    .colab-df-container {\n",
              "      display:flex;\n",
              "      flex-wrap:wrap;\n",
              "      gap: 12px;\n",
              "    }\n",
              "\n",
              "    .colab-df-convert {\n",
              "      background-color: #E8F0FE;\n",
              "      border: none;\n",
              "      border-radius: 50%;\n",
              "      cursor: pointer;\n",
              "      display: none;\n",
              "      fill: #1967D2;\n",
              "      height: 32px;\n",
              "      padding: 0 0 0 0;\n",
              "      width: 32px;\n",
              "    }\n",
              "\n",
              "    .colab-df-convert:hover {\n",
              "      background-color: #E2EBFA;\n",
              "      box-shadow: 0px 1px 2px rgba(60, 64, 67, 0.3), 0px 1px 3px 1px rgba(60, 64, 67, 0.15);\n",
              "      fill: #174EA6;\n",
              "    }\n",
              "\n",
              "    [theme=dark] .colab-df-convert {\n",
              "      background-color: #3B4455;\n",
              "      fill: #D2E3FC;\n",
              "    }\n",
              "\n",
              "    [theme=dark] .colab-df-convert:hover {\n",
              "      background-color: #434B5C;\n",
              "      box-shadow: 0px 1px 3px 1px rgba(0, 0, 0, 0.15);\n",
              "      filter: drop-shadow(0px 1px 2px rgba(0, 0, 0, 0.3));\n",
              "      fill: #FFFFFF;\n",
              "    }\n",
              "  </style>\n",
              "\n",
              "      <script>\n",
              "        const buttonEl =\n",
              "          document.querySelector('#df-86cbedd4-a610-4b50-a026-7f80d6da9442 button.colab-df-convert');\n",
              "        buttonEl.style.display =\n",
              "          google.colab.kernel.accessAllowed ? 'block' : 'none';\n",
              "\n",
              "        async function convertToInteractive(key) {\n",
              "          const element = document.querySelector('#df-86cbedd4-a610-4b50-a026-7f80d6da9442');\n",
              "          const dataTable =\n",
              "            await google.colab.kernel.invokeFunction('convertToInteractive',\n",
              "                                                     [key], {});\n",
              "          if (!dataTable) return;\n",
              "\n",
              "          const docLinkHtml = 'Like what you see? Visit the ' +\n",
              "            '<a target=\"_blank\" href=https://colab.research.google.com/notebooks/data_table.ipynb>data table notebook</a>'\n",
              "            + ' to learn more about interactive tables.';\n",
              "          element.innerHTML = '';\n",
              "          dataTable['output_type'] = 'display_data';\n",
              "          await google.colab.output.renderOutput(dataTable, element);\n",
              "          const docLink = document.createElement('div');\n",
              "          docLink.innerHTML = docLinkHtml;\n",
              "          element.appendChild(docLink);\n",
              "        }\n",
              "      </script>\n",
              "    </div>\n",
              "  </div>\n",
              "  "
            ]
          },
          "metadata": {},
          "execution_count": 6
        }
      ]
    },
    {
      "cell_type": "markdown",
      "source": [
        "### 3. Verificar e transformar dados"
      ],
      "metadata": {
        "id": "D7EK90R1J6fm"
      }
    },
    {
      "cell_type": "code",
      "source": [
        "df_enderecos.info()"
      ],
      "metadata": {
        "id": "6eIdX7UwQWm5"
      },
      "execution_count": null,
      "outputs": []
    },
    {
      "cell_type": "code",
      "source": [
        "df_dados.info()"
      ],
      "metadata": {
        "id": "Ee1LTEvvQWtf"
      },
      "execution_count": null,
      "outputs": []
    },
    {
      "cell_type": "code",
      "source": [
        "pd.merge(df_dados, df_enderecos, on='id_cliente')"
      ],
      "metadata": {
        "id": "OwBeZ-CxQW5m"
      },
      "execution_count": null,
      "outputs": []
    },
    {
      "cell_type": "code",
      "source": [
        "df_enderecos['id_cliente'] = df_enderecos['id_cliente'].astype('int64')"
      ],
      "metadata": {
        "id": "Zj9zdndfKcrM"
      },
      "execution_count": null,
      "outputs": []
    },
    {
      "cell_type": "code",
      "source": [
        "df_dados['data_nasc'] = pd.to_datetime(df_dados['data_nasc'], format='%d/%m/%Y')"
      ],
      "metadata": {
        "id": "G4hq1r6vKc3N"
      },
      "execution_count": null,
      "outputs": []
    },
    {
      "cell_type": "code",
      "source": [
        "df_enderecos.info()"
      ],
      "metadata": {
        "colab": {
          "base_uri": "https://localhost:8080/"
        },
        "id": "rr5f_nXMhYnv",
        "outputId": "a8625646-e6c3-4d15-9819-7575fda90382"
      },
      "execution_count": null,
      "outputs": [
        {
          "output_type": "stream",
          "name": "stdout",
          "text": [
            "<class 'pandas.core.frame.DataFrame'>\n",
            "RangeIndex: 30 entries, 0 to 29\n",
            "Data columns (total 7 columns):\n",
            " #   Column      Non-Null Count  Dtype \n",
            "---  ------      --------------  ----- \n",
            " 0   id_cliente  30 non-null     int64 \n",
            " 1   logradouro  30 non-null     object\n",
            " 2   numero      30 non-null     object\n",
            " 3   bairro      30 non-null     object\n",
            " 4   cep         30 non-null     object\n",
            " 5   cidade      30 non-null     object\n",
            " 6   uf          30 non-null     object\n",
            "dtypes: int64(1), object(6)\n",
            "memory usage: 1.8+ KB\n"
          ]
        }
      ]
    },
    {
      "cell_type": "code",
      "source": [
        "df_dados.info()"
      ],
      "metadata": {
        "colab": {
          "base_uri": "https://localhost:8080/"
        },
        "id": "xnR9Rq1dhYs9",
        "outputId": "9773afd1-a24c-434e-b3e2-25c92f3a99e9"
      },
      "execution_count": null,
      "outputs": [
        {
          "output_type": "stream",
          "name": "stdout",
          "text": [
            "<class 'pandas.core.frame.DataFrame'>\n",
            "RangeIndex: 30 entries, 0 to 29\n",
            "Data columns (total 6 columns):\n",
            " #   Column      Non-Null Count  Dtype         \n",
            "---  ------      --------------  -----         \n",
            " 0   id_cliente  30 non-null     int64         \n",
            " 1   nome        30 non-null     object        \n",
            " 2   email       30 non-null     object        \n",
            " 3   sexo        30 non-null     object        \n",
            " 4   cpf         30 non-null     object        \n",
            " 5   data_nasc   30 non-null     datetime64[ns]\n",
            "dtypes: datetime64[ns](1), int64(1), object(4)\n",
            "memory usage: 1.5+ KB\n"
          ]
        }
      ]
    },
    {
      "cell_type": "markdown",
      "source": [
        "### 4. Combinar em um *DataFrame*"
      ],
      "metadata": {
        "id": "14SiZ-2pKDLc"
      }
    },
    {
      "cell_type": "code",
      "source": [
        "df_completo = pd.merge(df_dados, df_enderecos, on='id_cliente')"
      ],
      "metadata": {
        "id": "QjseasyXvqwh"
      },
      "execution_count": null,
      "outputs": []
    },
    {
      "cell_type": "code",
      "source": [
        "df_completo.head()"
      ],
      "metadata": {
        "colab": {
          "base_uri": "https://localhost:8080/",
          "height": 478
        },
        "id": "nMwvGQUJhpf4",
        "outputId": "cebdb4d3-3c2d-44d9-9e48-745710f24e43"
      },
      "execution_count": null,
      "outputs": [
        {
          "output_type": "execute_result",
          "data": {
            "text/plain": [
              "   id_cliente                              nome  \\\n",
              "0           1           Sebastiana Tânia Mendes   \n",
              "1           2              Andrea Débora Campos   \n",
              "2           3          Rosa Jéssica Isis Barros   \n",
              "3           4  Vinicius Carlos Eduardo da Rocha   \n",
              "4           5       Cecília Milena Elisa Vieira   \n",
              "\n",
              "                                   email       sexo             cpf  \\\n",
              "0      sebastiana_tania_mendes@trbvm.com   Feminino  938.319.088-42   \n",
              "1            andrea-campos75@caporal.biz   Feminino  782.328.538-08   \n",
              "2     rosa.jessica.barros@optovac.com.br   Feminino  129.102.618-59   \n",
              "3  viniciuscarlosdarocha@carreira.com.br  Masculino  437.270.578-66   \n",
              "4          cecilia-vieira98@amure.com.br   Feminino  726.017.228-27   \n",
              "\n",
              "   data_nasc                   logradouro numero                      bairro  \\\n",
              "0 1984-01-06   Rua Bento de Miranda Mello    356  Residencial Olivio Benassi   \n",
              "1 1943-01-06   Rua Ricardo Arruda Ribeiro    745                 Água Branca   \n",
              "2 1970-02-04  Rua Dona Sylvia Finco Costa    870              Jardim Tapajós   \n",
              "3 1969-06-22                  Rua Axicará    433         Vila Isolina Mazzei   \n",
              "4 1948-09-07       Rua Diamantino Armando    245              Vila Esperança   \n",
              "\n",
              "         cep      cidade  uf  \n",
              "0  15993-037       Matão  SP  \n",
              "1  13425-100  Piracicaba  SP  \n",
              "2  12945-080     Atibaia  SP  \n",
              "3  02081-080   São Paulo  SP  \n",
              "4  18703-800       Avaré  SP  "
            ],
            "text/html": [
              "\n",
              "  <div id=\"df-1b4bafa9-f18b-4178-a3d2-d09932beac87\">\n",
              "    <div class=\"colab-df-container\">\n",
              "      <div>\n",
              "<style scoped>\n",
              "    .dataframe tbody tr th:only-of-type {\n",
              "        vertical-align: middle;\n",
              "    }\n",
              "\n",
              "    .dataframe tbody tr th {\n",
              "        vertical-align: top;\n",
              "    }\n",
              "\n",
              "    .dataframe thead th {\n",
              "        text-align: right;\n",
              "    }\n",
              "</style>\n",
              "<table border=\"1\" class=\"dataframe\">\n",
              "  <thead>\n",
              "    <tr style=\"text-align: right;\">\n",
              "      <th></th>\n",
              "      <th>id_cliente</th>\n",
              "      <th>nome</th>\n",
              "      <th>email</th>\n",
              "      <th>sexo</th>\n",
              "      <th>cpf</th>\n",
              "      <th>data_nasc</th>\n",
              "      <th>logradouro</th>\n",
              "      <th>numero</th>\n",
              "      <th>bairro</th>\n",
              "      <th>cep</th>\n",
              "      <th>cidade</th>\n",
              "      <th>uf</th>\n",
              "    </tr>\n",
              "  </thead>\n",
              "  <tbody>\n",
              "    <tr>\n",
              "      <th>0</th>\n",
              "      <td>1</td>\n",
              "      <td>Sebastiana Tânia Mendes</td>\n",
              "      <td>sebastiana_tania_mendes@trbvm.com</td>\n",
              "      <td>Feminino</td>\n",
              "      <td>938.319.088-42</td>\n",
              "      <td>1984-01-06</td>\n",
              "      <td>Rua Bento de Miranda Mello</td>\n",
              "      <td>356</td>\n",
              "      <td>Residencial Olivio Benassi</td>\n",
              "      <td>15993-037</td>\n",
              "      <td>Matão</td>\n",
              "      <td>SP</td>\n",
              "    </tr>\n",
              "    <tr>\n",
              "      <th>1</th>\n",
              "      <td>2</td>\n",
              "      <td>Andrea Débora Campos</td>\n",
              "      <td>andrea-campos75@caporal.biz</td>\n",
              "      <td>Feminino</td>\n",
              "      <td>782.328.538-08</td>\n",
              "      <td>1943-01-06</td>\n",
              "      <td>Rua Ricardo Arruda Ribeiro</td>\n",
              "      <td>745</td>\n",
              "      <td>Água Branca</td>\n",
              "      <td>13425-100</td>\n",
              "      <td>Piracicaba</td>\n",
              "      <td>SP</td>\n",
              "    </tr>\n",
              "    <tr>\n",
              "      <th>2</th>\n",
              "      <td>3</td>\n",
              "      <td>Rosa Jéssica Isis Barros</td>\n",
              "      <td>rosa.jessica.barros@optovac.com.br</td>\n",
              "      <td>Feminino</td>\n",
              "      <td>129.102.618-59</td>\n",
              "      <td>1970-02-04</td>\n",
              "      <td>Rua Dona Sylvia Finco Costa</td>\n",
              "      <td>870</td>\n",
              "      <td>Jardim Tapajós</td>\n",
              "      <td>12945-080</td>\n",
              "      <td>Atibaia</td>\n",
              "      <td>SP</td>\n",
              "    </tr>\n",
              "    <tr>\n",
              "      <th>3</th>\n",
              "      <td>4</td>\n",
              "      <td>Vinicius Carlos Eduardo da Rocha</td>\n",
              "      <td>viniciuscarlosdarocha@carreira.com.br</td>\n",
              "      <td>Masculino</td>\n",
              "      <td>437.270.578-66</td>\n",
              "      <td>1969-06-22</td>\n",
              "      <td>Rua Axicará</td>\n",
              "      <td>433</td>\n",
              "      <td>Vila Isolina Mazzei</td>\n",
              "      <td>02081-080</td>\n",
              "      <td>São Paulo</td>\n",
              "      <td>SP</td>\n",
              "    </tr>\n",
              "    <tr>\n",
              "      <th>4</th>\n",
              "      <td>5</td>\n",
              "      <td>Cecília Milena Elisa Vieira</td>\n",
              "      <td>cecilia-vieira98@amure.com.br</td>\n",
              "      <td>Feminino</td>\n",
              "      <td>726.017.228-27</td>\n",
              "      <td>1948-09-07</td>\n",
              "      <td>Rua Diamantino Armando</td>\n",
              "      <td>245</td>\n",
              "      <td>Vila Esperança</td>\n",
              "      <td>18703-800</td>\n",
              "      <td>Avaré</td>\n",
              "      <td>SP</td>\n",
              "    </tr>\n",
              "  </tbody>\n",
              "</table>\n",
              "</div>\n",
              "      <button class=\"colab-df-convert\" onclick=\"convertToInteractive('df-1b4bafa9-f18b-4178-a3d2-d09932beac87')\"\n",
              "              title=\"Convert this dataframe to an interactive table.\"\n",
              "              style=\"display:none;\">\n",
              "        \n",
              "  <svg xmlns=\"http://www.w3.org/2000/svg\" height=\"24px\"viewBox=\"0 0 24 24\"\n",
              "       width=\"24px\">\n",
              "    <path d=\"M0 0h24v24H0V0z\" fill=\"none\"/>\n",
              "    <path d=\"M18.56 5.44l.94 2.06.94-2.06 2.06-.94-2.06-.94-.94-2.06-.94 2.06-2.06.94zm-11 1L8.5 8.5l.94-2.06 2.06-.94-2.06-.94L8.5 2.5l-.94 2.06-2.06.94zm10 10l.94 2.06.94-2.06 2.06-.94-2.06-.94-.94-2.06-.94 2.06-2.06.94z\"/><path d=\"M17.41 7.96l-1.37-1.37c-.4-.4-.92-.59-1.43-.59-.52 0-1.04.2-1.43.59L10.3 9.45l-7.72 7.72c-.78.78-.78 2.05 0 2.83L4 21.41c.39.39.9.59 1.41.59.51 0 1.02-.2 1.41-.59l7.78-7.78 2.81-2.81c.8-.78.8-2.07 0-2.86zM5.41 20L4 18.59l7.72-7.72 1.47 1.35L5.41 20z\"/>\n",
              "  </svg>\n",
              "      </button>\n",
              "      \n",
              "  <style>\n",
              "    .colab-df-container {\n",
              "      display:flex;\n",
              "      flex-wrap:wrap;\n",
              "      gap: 12px;\n",
              "    }\n",
              "\n",
              "    .colab-df-convert {\n",
              "      background-color: #E8F0FE;\n",
              "      border: none;\n",
              "      border-radius: 50%;\n",
              "      cursor: pointer;\n",
              "      display: none;\n",
              "      fill: #1967D2;\n",
              "      height: 32px;\n",
              "      padding: 0 0 0 0;\n",
              "      width: 32px;\n",
              "    }\n",
              "\n",
              "    .colab-df-convert:hover {\n",
              "      background-color: #E2EBFA;\n",
              "      box-shadow: 0px 1px 2px rgba(60, 64, 67, 0.3), 0px 1px 3px 1px rgba(60, 64, 67, 0.15);\n",
              "      fill: #174EA6;\n",
              "    }\n",
              "\n",
              "    [theme=dark] .colab-df-convert {\n",
              "      background-color: #3B4455;\n",
              "      fill: #D2E3FC;\n",
              "    }\n",
              "\n",
              "    [theme=dark] .colab-df-convert:hover {\n",
              "      background-color: #434B5C;\n",
              "      box-shadow: 0px 1px 3px 1px rgba(0, 0, 0, 0.15);\n",
              "      filter: drop-shadow(0px 1px 2px rgba(0, 0, 0, 0.3));\n",
              "      fill: #FFFFFF;\n",
              "    }\n",
              "  </style>\n",
              "\n",
              "      <script>\n",
              "        const buttonEl =\n",
              "          document.querySelector('#df-1b4bafa9-f18b-4178-a3d2-d09932beac87 button.colab-df-convert');\n",
              "        buttonEl.style.display =\n",
              "          google.colab.kernel.accessAllowed ? 'block' : 'none';\n",
              "\n",
              "        async function convertToInteractive(key) {\n",
              "          const element = document.querySelector('#df-1b4bafa9-f18b-4178-a3d2-d09932beac87');\n",
              "          const dataTable =\n",
              "            await google.colab.kernel.invokeFunction('convertToInteractive',\n",
              "                                                     [key], {});\n",
              "          if (!dataTable) return;\n",
              "\n",
              "          const docLinkHtml = 'Like what you see? Visit the ' +\n",
              "            '<a target=\"_blank\" href=https://colab.research.google.com/notebooks/data_table.ipynb>data table notebook</a>'\n",
              "            + ' to learn more about interactive tables.';\n",
              "          element.innerHTML = '';\n",
              "          dataTable['output_type'] = 'display_data';\n",
              "          await google.colab.output.renderOutput(dataTable, element);\n",
              "          const docLink = document.createElement('div');\n",
              "          docLink.innerHTML = docLinkHtml;\n",
              "          element.appendChild(docLink);\n",
              "        }\n",
              "      </script>\n",
              "    </div>\n",
              "  </div>\n",
              "  "
            ]
          },
          "metadata": {},
          "execution_count": 15
        }
      ]
    },
    {
      "cell_type": "code",
      "source": [
        "df_completo.set_index('id_cliente', inplace=True)"
      ],
      "metadata": {
        "id": "HPn9X8ThwfxI"
      },
      "execution_count": null,
      "outputs": []
    },
    {
      "cell_type": "code",
      "source": [
        "df_completo.head()"
      ],
      "metadata": {
        "id": "LzC4FfMA0Uc0"
      },
      "execution_count": null,
      "outputs": []
    },
    {
      "cell_type": "markdown",
      "source": [
        "### 5. Obter coordenadas geográficas"
      ],
      "metadata": {
        "id": "vqdbuJAOQ_dv"
      }
    },
    {
      "cell_type": "code",
      "source": [
        "# API do Google Maps\n",
        "gmaps = googlemaps.Client(key='INSERIR_CHAVE_API')"
      ],
      "metadata": {
        "id": "u5wLsv1PzJ6N"
      },
      "execution_count": null,
      "outputs": []
    },
    {
      "cell_type": "code",
      "source": [
        "# Gerar coluna com endereços completos, para minimizar conflitos\n",
        "enderecos_completos = df_completo[\"logradouro\"] + \" , \" + df_completo[\"numero\"] + \" - \" + df_completo[\"bairro\"] + \" - \" + df_completo[\"cidade\"] + \" , \" + df_completo[\"uf\"]"
      ],
      "metadata": {
        "id": "I64eVn9WAcE1"
      },
      "execution_count": null,
      "outputs": []
    },
    {
      "cell_type": "code",
      "source": [
        "# exemplo de endereço completo\n",
        "enderecos_completos.iloc[0]"
      ],
      "metadata": {
        "id": "VAHuRKTWHvs8",
        "colab": {
          "base_uri": "https://localhost:8080/",
          "height": 36
        },
        "outputId": "fbc7ffea-e7c0-47ca-a619-bc881af7cc93"
      },
      "execution_count": null,
      "outputs": [
        {
          "output_type": "execute_result",
          "data": {
            "text/plain": [
              "'Rua Bento de Miranda Mello , 356 - Residencial Olivio Benassi - Matão , SP'"
            ],
            "application/vnd.google.colaboratory.intrinsic+json": {
              "type": "string"
            }
          },
          "metadata": {},
          "execution_count": 12
        }
      ]
    },
    {
      "cell_type": "code",
      "source": [
        "enderecos_completos.head()"
      ],
      "metadata": {
        "id": "E67rnQlISo1N"
      },
      "execution_count": null,
      "outputs": []
    },
    {
      "cell_type": "code",
      "source": [
        "# Obter coordenadas de maneira iterativa\n",
        "coordenadas = []\n",
        "\n",
        "# percorrer entradas individuais e fazer requisições individuais\n",
        "for i, j in enumerate(enderecos_completos):\n",
        "    geocode_obj = gmaps.geocode(j)\n",
        "\n",
        "    # extrair apenas lat/lon\n",
        "    lat = geocode_obj[0]['geometry']['location']['lat']\n",
        "    lon = geocode_obj[0]['geometry']['location']['lng']\n",
        "\n",
        "    # adicionar lat/lon à lista\n",
        "    coordenadas.append([lat, lon])"
      ],
      "metadata": {
        "id": "HJTbXj3eEhEC"
      },
      "execution_count": null,
      "outputs": []
    },
    {
      "cell_type": "code",
      "source": [
        "geocode_obj[0]['geometry']['location']"
      ],
      "metadata": {
        "colab": {
          "base_uri": "https://localhost:8080/"
        },
        "id": "irFhlV0qioWW",
        "outputId": "03a2bb5b-34bd-4e16-ac71-19f2568874e9"
      },
      "execution_count": null,
      "outputs": [
        {
          "output_type": "execute_result",
          "data": {
            "text/plain": [
              "{'lat': -23.6826179, 'lng': -46.3587757}"
            ]
          },
          "metadata": {},
          "execution_count": 60
        }
      ]
    },
    {
      "cell_type": "code",
      "source": [
        "# converter para DataFrame\n",
        "df_coordenadas = pd.DataFrame(coordenadas, columns=['lat', 'lon'])\n",
        "\n",
        "# Obter mesmo índice que o dataframe completo\n",
        "df_coordenadas.set_index(df_coordenadas.index + 1, inplace=True)"
      ],
      "metadata": {
        "id": "PzV-yxZfIsyp"
      },
      "execution_count": null,
      "outputs": []
    },
    {
      "cell_type": "markdown",
      "source": [
        "### 6. Exportar *csv* com dados completos"
      ],
      "metadata": {
        "id": "jC23j7MsSCFa"
      }
    },
    {
      "cell_type": "code",
      "source": [
        "# combinar coordenadas aos dados existentes, em relação ao axis=1\n",
        "df_completo = pd.concat([df_completo, df_coordenadas], axis=1)"
      ],
      "metadata": {
        "id": "IiI21o7WGwyb"
      },
      "execution_count": null,
      "outputs": []
    },
    {
      "cell_type": "code",
      "source": [
        "# exportar para arquivo csv dentro do Google Drive\n",
        "df_completo.to_csv(PROJECT_PATH + 'dados_completos.csv')"
      ],
      "metadata": {
        "id": "ghBOKwC650gS"
      },
      "execution_count": null,
      "outputs": []
    },
    {
      "cell_type": "markdown",
      "source": [
        "### 7. Calcular distância até o evento"
      ],
      "metadata": {
        "id": "RAgIP_QZTBsf"
      }
    },
    {
      "cell_type": "code",
      "source": [
        "local_do_evento = \"Estádio da Fonte Luminosa, Araraquara - SP\""
      ],
      "metadata": {
        "id": "6_BhsuqlAjjF"
      },
      "execution_count": null,
      "outputs": []
    },
    {
      "cell_type": "code",
      "source": [
        "# obter informações sobre o local do evento\n",
        "obj = gmaps.geocode(local_do_evento)\n",
        "\n",
        "lat_even = obj[0]['geometry']['location']['lat']\n",
        "lon_even = obj[0]['geometry']['location']['lng']\n",
        "print(lon_even, lat_even)"
      ],
      "metadata": {
        "id": "UA-z5O7LA11A",
        "colab": {
          "base_uri": "https://localhost:8080/"
        },
        "outputId": "65d91840-8f9d-4529-ac39-df28a3ab5752"
      },
      "execution_count": null,
      "outputs": [
        {
          "output_type": "stream",
          "name": "stdout",
          "text": [
            "-48.1702765 -21.7752895\n"
          ]
        }
      ]
    },
    {
      "cell_type": "code",
      "source": [
        "# exemplo de como calcular distancia/tempo entre pontos, com data específica\n",
        "dia_do_evento = datetime(2023, 12, 2)\n",
        "directions_result = gmaps.directions(\"-21.620162, -48.366012\",\n",
        "                                     local_do_evento,\n",
        "                                     mode=\"driving\",\n",
        "                                     departure_time=dia_do_evento)"
      ],
      "metadata": {
        "id": "pIseMVsD_5pc"
      },
      "execution_count": null,
      "outputs": []
    },
    {
      "cell_type": "code",
      "source": [
        "int(directions_result[0]['legs'][0]['distance']['value'] / 1000)"
      ],
      "metadata": {
        "colab": {
          "base_uri": "https://localhost:8080/"
        },
        "id": "2lq91ET1CKkt",
        "outputId": "766e334d-ed42-4543-85d5-01ecbcc4eec0"
      },
      "execution_count": null,
      "outputs": [
        {
          "output_type": "execute_result",
          "data": {
            "text/plain": [
              "32"
            ]
          },
          "metadata": {},
          "execution_count": 19
        }
      ]
    },
    {
      "cell_type": "code",
      "source": [
        "directions_result[0]['legs'][0]['duration']['value'] / 60"
      ],
      "metadata": {
        "id": "K6TAh8mVCMr7",
        "colab": {
          "base_uri": "https://localhost:8080/"
        },
        "outputId": "a6c2e042-793e-419d-ced3-b725e8036bcf"
      },
      "execution_count": null,
      "outputs": [
        {
          "output_type": "execute_result",
          "data": {
            "text/plain": [
              "35.88333333333333"
            ]
          },
          "metadata": {},
          "execution_count": 20
        }
      ]
    },
    {
      "cell_type": "code",
      "source": [
        "# obter todas as distâncias e tempos de estrada\n",
        "lista_distancias = []\n",
        "dia_do_evento = datetime(2023, 12, 2)\n",
        "\n",
        "# percorrer entradas individuais e fazer requisições individuais\n",
        "for i, j in enumerate(enderecos_completos):\n",
        "    directions_result = gmaps.directions(j,\n",
        "                                     local_do_evento,\n",
        "                                     mode=\"driving\",\n",
        "                                     departure_time=dia_do_evento)\n",
        "\n",
        "    # adicionar às listas\n",
        "    distancia = directions_result[0]['legs'][0]['distance']['value']\n",
        "    tempo = directions_result[0]['legs'][0]['duration']['value'] / 60\n",
        "    lista_distancias.append([distancia, tempo])"
      ],
      "metadata": {
        "id": "rilEhlezVSpC"
      },
      "execution_count": null,
      "outputs": []
    },
    {
      "cell_type": "code",
      "source": [
        "# converter para DataFrame\n",
        "df_distancias = pd.DataFrame(lista_distancias, columns=['distancia', 'tempo'])\n",
        "\n",
        "# Obter mesmo índice que o dataframe completo\n",
        "df_distancias.set_index(df_distancias.index + 1, inplace=True)"
      ],
      "metadata": {
        "id": "q0YcQF8HVSwp"
      },
      "execution_count": null,
      "outputs": []
    },
    {
      "cell_type": "code",
      "source": [
        "# combinar coordenadas aos dados existentes, em relação ao axis=1\n",
        "df_evento = pd.concat([df_completo['nome'], df_distancias], axis=1)"
      ],
      "metadata": {
        "id": "-VknSq0VVTUf"
      },
      "execution_count": null,
      "outputs": []
    },
    {
      "cell_type": "code",
      "source": [
        "df_evento.head()"
      ],
      "metadata": {
        "id": "vt8l71yfW4eH"
      },
      "execution_count": null,
      "outputs": []
    },
    {
      "cell_type": "code",
      "source": [
        "# converter metros em kilometros (inteiro)\n",
        "df_evento['distancia'] = (df_evento['distancia'] / 1000).astype('int64')"
      ],
      "metadata": {
        "id": "2DGiq23tW4hJ"
      },
      "execution_count": null,
      "outputs": []
    },
    {
      "cell_type": "code",
      "source": [
        "df_lon_lat_dist = pd.concat([df_coordenadas['lon'], df_coordenadas['lat'], df_evento['distancia']], axis=1)"
      ],
      "metadata": {
        "id": "DgrN5WhoMzZB"
      },
      "execution_count": null,
      "outputs": []
    },
    {
      "cell_type": "code",
      "source": [
        "df_evento.head()"
      ],
      "metadata": {
        "id": "ax18VSmJW4kc"
      },
      "execution_count": null,
      "outputs": []
    },
    {
      "cell_type": "markdown",
      "source": [
        "## Momento mão na massa\n",
        "\n",
        "Que tal você extrapolar as atividades que te foram designadas, e entregar insights que vão além da *obrigação*?\n",
        "\n",
        "Atenção, não há gabarito para as tarefas abaixo. Mas eu te garanto que qualquer busca bem feita (documentação, forums e Google) irá entregar aquilo que você precisa.\n",
        "\n",
        "Se você é iniciante, talvez pareça muito tempo \"*estar há algumas horas na mesma questão, sem sair do lugar*\".\n",
        "\n",
        "**Bem-vindo à realidade, Neo!**\n",
        "\n",
        "Antes de pedir qualquer tipo de ajuda no Circle, ou no suporte, **use uma semana inteira se precisar, para vasculhar a internet e encontrar a solução.** Caso contrário, você não vai desenvolver a principal habilidade do mercado: **autodidatismo** e **capacidade de resolver problemas**.\n",
        "\n",
        "Boa sorte!<br><br>"
      ],
      "metadata": {
        "id": "Gqpz-aInXeL5"
      }
    },
    {
      "cell_type": "markdown",
      "source": [
        "### ***📋 CHECKLIST* DAS SUAS TAREFAS**\n",
        "✅ Calcular a idade média dos seus clientes.\n",
        "<br>✅ Ver Identificar o cliente que mora mais longe do local do evento.\n",
        "<br>✅ Plotar as informações geográficas (Lat/Lon) em um mapa *(procure por `geopandas` no Google)*\n",
        "<br>✅ [*Opcional*] Plotar um Mapa de Calor (*heatmap*).\n",
        "<br>✅ [*Opcional*] Identificar alguma cidade que fique no \"meio do caminho\" para todos os clientes.\n",
        "\n",
        "<br>\n"
      ],
      "metadata": {
        "id": "SWMCwUY-cKui"
      }
    },
    {
      "cell_type": "code",
      "source": [
        "# Função para calcular a idade dos clientes\n",
        "from datetime import date\n",
        "\n",
        "hoje = datetime(2022, 10, 2) # data atual em que se verificará a idade dos clientes\n",
        "\n",
        "def idade(nascimento):\n",
        "    ans = hoje.year - nascimento.year - ((hoje.month, hoje.day) < (nascimento.month, nascimento.day))\n",
        "    return ans"
      ],
      "metadata": {
        "id": "IpGX_eUecLKs"
      },
      "execution_count": null,
      "outputs": []
    },
    {
      "cell_type": "code",
      "source": [
        "# Obter idade de cada cliente\n",
        "idade_clientes = [] # armazena numa lista as idades de cada cliente\n",
        "for data in df_completo['data_nasc']:\n",
        "  aux = date(data.year, data.month, data.day)\n",
        "  idade_clientes.append(idade(aux))"
      ],
      "metadata": {
        "id": "SqW0KruismhI"
      },
      "execution_count": null,
      "outputs": []
    },
    {
      "cell_type": "code",
      "source": [
        "# Calcular a idade média dos seus clientes.\n",
        "import statistics\n",
        "print('A idade média dos clientes é de', + round(statistics.mean(idade_clientes)), 'anos')"
      ],
      "metadata": {
        "colab": {
          "base_uri": "https://localhost:8080/"
        },
        "id": "b2NFxlDmtdH8",
        "outputId": "6b556d2d-1f9b-4237-8bd4-af0f7329c1d1"
      },
      "execution_count": null,
      "outputs": [
        {
          "output_type": "stream",
          "name": "stdout",
          "text": [
            "A idade média dos clientes é de 56 anos\n"
          ]
        }
      ]
    },
    {
      "cell_type": "code",
      "source": [
        "# Identificar o cliente que mora mais longe do local do evento.\n",
        "coluna = df_evento['distancia'] # obtém coluna das distâncias\n",
        "indice = coluna.idxmax() # encontra posição na coluna em que a distância é máxima\n",
        "nome = df_evento['nome'][indice] # acha o nome na posição respectiva da coluna de nomes\n",
        "print(nome, 'é o cliente que mora mais longe do local do evento')"
      ],
      "metadata": {
        "colab": {
          "base_uri": "https://localhost:8080/"
        },
        "id": "6w0oMM3IxSW8",
        "outputId": "a62f9406-86b0-4cee-fc64-29a720602d8b"
      },
      "execution_count": null,
      "outputs": [
        {
          "output_type": "stream",
          "name": "stdout",
          "text": [
            "Renato Vicente Antonio Freitas é o cliente que mora mais longe do local do evento\n"
          ]
        }
      ]
    },
    {
      "cell_type": "code",
      "source": [
        "# Plotar as informações geográficas (Lat/Lon) em um mapa\n",
        "# Importar geopandas\n",
        "!pip install geopandas -q\n",
        "import geopandas as gpd"
      ],
      "metadata": {
        "id": "vCpPrxry0n7b",
        "colab": {
          "base_uri": "https://localhost:8080/"
        },
        "outputId": "e5a7e46a-5d9d-4938-ece5-78131eb93230"
      },
      "execution_count": null,
      "outputs": [
        {
          "output_type": "stream",
          "name": "stdout",
          "text": [
            "\u001b[K     |████████████████████████████████| 1.0 MB 2.1 MB/s \n",
            "\u001b[K     |████████████████████████████████| 16.7 MB 302 kB/s \n",
            "\u001b[K     |████████████████████████████████| 6.3 MB 28.1 MB/s \n",
            "\u001b[?25h"
          ]
        }
      ]
    },
    {
      "cell_type": "code",
      "source": [
        "# Fontes: https://geopandas.org/en/stable/docs/user_guide/mapping.html, https://www.alura.com.br/conteudo/geopandas-dados-geoespaciais\n",
        "# 1º: plotar mapa do estado\n",
        "mapa_SP = gpd.read_file('/content/drive/MyDrive/PDZ/Mod4/Mapa_SP/SP_UF_2021.shp') # Dados de SP retirados de geoftp.ibge.gov.br/organizacao_do_territorio/malhas_territoriais/malhas_municipais/\n",
        "fig, ax = plt.subplots(figsize=(15,15)) # Cria figura e axes\n",
        "mapa_SP.plot(color='palegreen', edgecolor='black', ax=ax) # Plota os dados de SP\n",
        "\n",
        "# 2º: plotar dados dos clientes\n",
        "geometria = gpd.points_from_xy(x=df_lon_lat_dist['lon'], y=df_lon_lat_dist['lat']) # Cria geometria com as coordenadas dos clientes\n",
        "distancias = df_lon_lat_dist.iloc[:,2].values\n",
        "d = {'heat': distancias, 'geometry': geometria} # Criar um GeoDataFrame com uma coluna do calor e uma das posições\n",
        "geo_df = gpd.GeoDataFrame(d)\n",
        "geo_df.plot(ax=ax, column='heat', legend=True,\n",
        "            legend_kwds={'label': \"Distância ao Local do Evento (km)\",\n",
        "                         'orientation': \"horizontal\"}, cmap='OrRd')\n",
        "\n",
        "# 3º: Plotar Local do evento\n",
        "geometria2 = gpd.points_from_xy(x=[lon_even], y=[lat_even]) # Coordenadas do Local do evento\n",
        "geo_df2 = gpd.GeoDataFrame(geometry = geometria2) # Cria o dataframe para ser usado pelo gpd\n",
        "g2 = geo_df2.plot(ax=ax, markersize=100, color='blue', marker='*', label='Local do Evento')\n",
        "\n",
        "geometria3 = gpd.points_from_xy(x=[lon_media], y=[lat_media]) # Coordenadas da cidade \"no meio\"\n",
        "geo_df3 = gpd.GeoDataFrame(geometry = geometria3) # Cria o dataframe para ser usado pelo gpd\n",
        "g3 = geo_df3.plot(ax=ax, markersize=100, color='red', marker='+', label='Cidade intermediária')\n",
        "\n",
        "# 4º: Nomear eixos, legendas, etc.\n",
        "plt.title('Localização dos clientes no estado de São Paulo', size=18)\n",
        "plt.xlabel('Longitude', size=18)\n",
        "plt.ylabel('Latitude', size=18)\n",
        "leg = ax.legend(prop={'size': 14})\n",
        "plt.grid()\n",
        "\n",
        "plt.show()"
      ],
      "metadata": {
        "colab": {
          "base_uri": "https://localhost:8080/",
          "height": 768
        },
        "id": "opvjCDgU2KLn",
        "outputId": "53cf692e-1f51-4bf8-95c3-83398a43b8c9"
      },
      "execution_count": null,
      "outputs": [
        {
          "output_type": "display_data",
          "data": {
            "text/plain": [
              "<Figure size 1080x1080 with 2 Axes>"
            ],
            "image/png": "[encoded data removed]"
          },
          "metadata": {
            "needs_background": "light"
          }
        }
      ]
    },
    {
      "cell_type": "code",
      "source": [
        "# Identificar alguma cidade que fique no \"meio do caminho\" para todos os clientes.\n",
        "# Solução possível: obter uma média dos valores de latitude e longitude\n",
        "lat_media = df_lon_lat_dist['lat'].mean()\n",
        "lon_media = df_lon_lat_dist['lon'].mean()"
      ],
      "metadata": {
        "id": "f1Mr0LQ24leC"
      },
      "execution_count": null,
      "outputs": []
    },
    {
      "cell_type": "code",
      "source": [
        "!pip install reverse-geocode\n",
        "import reverse_geocode"
      ],
      "metadata": {
        "id": "TyUWqpZ35dTH",
        "colab": {
          "base_uri": "https://localhost:8080/"
        },
        "outputId": "6365a1a1-11ef-41f7-bba7-5e5d6a80586c"
      },
      "execution_count": null,
      "outputs": [
        {
          "output_type": "stream",
          "name": "stdout",
          "text": [
            "Looking in indexes: https://pypi.org/simple, https://us-python.pkg.dev/colab-wheels/public/simple/\n",
            "Collecting reverse-geocode\n",
            "  Downloading reverse_geocode-1.4.1.tar.gz (1.6 MB)\n",
            "\u001b[K     |████████████████████████████████| 1.6 MB 2.1 MB/s \n",
            "\u001b[?25hRequirement already satisfied: numpy in /usr/local/lib/python3.7/dist-packages (from reverse-geocode) (1.21.6)\n",
            "Requirement already satisfied: scipy in /usr/local/lib/python3.7/dist-packages (from reverse-geocode) (1.7.3)\n",
            "Building wheels for collected packages: reverse-geocode\n",
            "  Building wheel for reverse-geocode (setup.py) ... \u001b[?25l\u001b[?25hdone\n",
            "  Created wheel for reverse-geocode: filename=reverse_geocode-1.4.1-py3-none-any.whl size=1637841 sha256=32a4468d745c8217debe5fcc457bb341e16283694c730842194133af9934f9e4\n",
            "  Stored in directory: /root/.cache/pip/wheels/34/fd/8c/204b58f530154e61f182bcf1813a53b3ad5844faaff3df51d6\n",
            "Successfully built reverse-geocode\n",
            "Installing collected packages: reverse-geocode\n",
            "Successfully installed reverse-geocode-1.4.1\n"
          ]
        }
      ]
    },
    {
      "cell_type": "code",
      "source": [
        "coordinates = (lat_media, lon_media), (lat_media, lon_media)\n",
        "cidade = reverse_geocode.search(coordinates)\n",
        "print('Cidade no meio do caminho sugerida:', cidade[0]['city'])"
      ],
      "metadata": {
        "colab": {
          "base_uri": "https://localhost:8080/"
        },
        "id": "EpY1qu-J31dW",
        "outputId": "48054b60-07bf-4103-d2d7-a2c7c34e348c"
      },
      "execution_count": null,
      "outputs": [
        {
          "output_type": "stream",
          "name": "stdout",
          "text": [
            "Cidade no meio do caminho sugerida: Salto\n"
          ]
        }
      ]
    },
    {
      "cell_type": "code",
      "source": [
        "cidade[0]['city']"
      ],
      "metadata": {
        "colab": {
          "base_uri": "https://localhost:8080/",
          "height": 36
        },
        "id": "yQpc9gcz66kc",
        "outputId": "f502d2c3-36f1-47db-9ee7-480fe21d5b3a"
      },
      "execution_count": null,
      "outputs": [
        {
          "output_type": "execute_result",
          "data": {
            "text/plain": [
              "'Salto'"
            ],
            "application/vnd.google.colaboratory.intrinsic+json": {
              "type": "string"
            }
          },
          "metadata": {},
          "execution_count": 58
        }
      ]
    },
    {
      "cell_type": "code",
      "source": [],
      "metadata": {
        "id": "_-Lo8xUZ7DKv"
      },
      "execution_count": null,
      "outputs": []
    }
  ]
}